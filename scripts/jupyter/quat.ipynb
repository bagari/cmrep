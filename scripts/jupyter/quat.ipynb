{
 "cells": [
  {
   "cell_type": "code",
   "execution_count": 1,
   "id": "2e08d258",
   "metadata": {},
   "outputs": [],
   "source": [
    "import torch\n",
    "import numpy as np"
   ]
  },
  {
   "cell_type": "code",
   "execution_count": 2,
   "id": "ba62cb8c",
   "metadata": {},
   "outputs": [],
   "source": [
    "def make_q(r, v, dtype=torch.float64, device='cpu'):\n",
    "    return torch.tensor(r, dtype=dtype, device=device), torch.tensor(v, dtype=dtype, device=device)\n",
    "\n",
    "def point_to_q(v):\n",
    "    return torch.tensor(0, dtype=v.dtype, device=v.device), v\n",
    "\n",
    "def q_norm(q):\n",
    "    r, v = q\n",
    "    return torch.sqrt(r * r + torch.dot(v, v))\n",
    "\n",
    "def q_normalize(q):\n",
    "    r, v = q\n",
    "    norm = torch.sqrt(r * r + torch.dot(v, v))\n",
    "    return (r/norm, v/norm)\n",
    "\n",
    "def q_conj(q):\n",
    "    r, v = q\n",
    "    return (r, -v)\n",
    "\n",
    "def q_add(q1, q2):\n",
    "    r1, v1 = q1\n",
    "    r2, v2 = q2\n",
    "    return r1+r2, v1+v2\n",
    "\n",
    "def q_mul(q1, q2):\n",
    "    r1, v1 = q1\n",
    "    r2, v2 = q2\n",
    "    return r1 * r2 - torch.dot(v1, v2), v1 * r2 + r1 * v2 + torch.cross(v1, v2)\n",
    "\n",
    "def q_scale(q, a):\n",
    "    r, v = q\n",
    "    return (a * r, a * v)"
   ]
  },
  {
   "cell_type": "code",
   "execution_count": 3,
   "id": "811bc932",
   "metadata": {},
   "outputs": [],
   "source": [
    "q1 = make_q(np.random.randn(), np.random.randn(3))\n",
    "q2 = make_q(np.random.randn(), np.random.randn(3))\n",
    "p = make_q(0, np.random.randn(3))"
   ]
  },
  {
   "cell_type": "markdown",
   "id": "9e92c18c",
   "metadata": {},
   "source": [
    "Check that rotating using a norm-1 quaternion and multiplying by alpha^2 is the same as rotating by norm alpha quaternion. This means that to perform similarity transforms, we don't need to normalize"
   ]
  },
  {
   "cell_type": "code",
   "execution_count": 4,
   "id": "52b2b92c",
   "metadata": {},
   "outputs": [
    {
     "data": {
      "text/plain": [
       "(tensor(3.5337, dtype=torch.float64), tensor(1.3584, dtype=torch.float64))"
      ]
     },
     "execution_count": 4,
     "metadata": {},
     "output_type": "execute_result"
    }
   ],
   "source": [
    "q_norm(q1), q_norm(p)"
   ]
  },
  {
   "cell_type": "code",
   "execution_count": 5,
   "id": "faf2e407",
   "metadata": {},
   "outputs": [
    {
     "data": {
      "text/plain": [
       "(tensor(0., dtype=torch.float64),\n",
       " tensor([ -0.5199, -16.9135,   1.1793], dtype=torch.float64))"
      ]
     },
     "execution_count": 5,
     "metadata": {},
     "output_type": "execute_result"
    }
   ],
   "source": [
    "p1 = q_mul(q_mul(q1, p), q_conj(q1))\n",
    "p1"
   ]
  },
  {
   "cell_type": "code",
   "execution_count": 6,
   "id": "edd3fa60",
   "metadata": {},
   "outputs": [
    {
     "data": {
      "text/plain": [
       "(tensor(-1.0398e-15, dtype=torch.float64),\n",
       " tensor([ -0.5199, -16.9135,   1.1793], dtype=torch.float64))"
      ]
     },
     "execution_count": 6,
     "metadata": {},
     "output_type": "execute_result"
    }
   ],
   "source": [
    "q1n = q_normalize(q1)\n",
    "p2 = q_mul(q_mul(q1n, p), q_conj(q1n))\n",
    "tuple(u * q_norm(q1)**2 for u in p2)"
   ]
  },
  {
   "cell_type": "markdown",
   "id": "def4628d",
   "metadata": {},
   "source": [
    "Check the Jacobian of quaternion rotation and translation"
   ]
  },
  {
   "cell_type": "code",
   "execution_count": 7,
   "id": "46aacd83",
   "metadata": {},
   "outputs": [],
   "source": [
    "# Center of rotation\n",
    "C = make_q(0, np.random.randn(3))[1]\n",
    "\n",
    "# Offset\n",
    "b = make_q(0, np.random.randn(3))[1].requires_grad_(True)\n",
    "\n",
    "# Quaternion\n",
    "q = tuple(u.clone().detach().requires_grad_(True) for u in q1)\n",
    "\n",
    "# Starting point\n",
    "A = make_q(0, np.random.randn(3))[1]\n",
    "\n",
    "# Transformed point p\n",
    "A0 = point_to_q(A-C)\n",
    "B0 = q_mul(q_mul(q, A0), q_conj(q))\n",
    "B = B0[1] + C + b"
   ]
  },
  {
   "cell_type": "code",
   "execution_count": 8,
   "id": "6f699b1a",
   "metadata": {},
   "outputs": [
    {
     "data": {
      "text/plain": [
       "(tensor(1.7188, dtype=torch.float64),\n",
       " tensor([-1.2083,  0.0327,  5.8198], dtype=torch.float64),\n",
       " tensor([ 0.3300,  0.4200, -0.4300], dtype=torch.float64))"
      ]
     },
     "execution_count": 8,
     "metadata": {},
     "output_type": "execute_result"
    }
   ],
   "source": [
    "# PyTorch derivatives\n",
    "gamma = make_q(0, [0.33, 0.42, -0.43])[1]\n",
    "B.backward(gamma)\n",
    "q[0].grad, q[1].grad, b.grad"
   ]
  },
  {
   "cell_type": "code",
   "execution_count": 9,
   "id": "f4cd0c7a",
   "metadata": {},
   "outputs": [
    {
     "name": "stdout",
     "output_type": "stream",
     "text": [
      "b: tensor([ 0.3300,  0.4200, -0.4300], dtype=torch.float64) vs tensor([ 0.3300,  0.4200, -0.4300], dtype=torch.float64)\n"
     ]
    },
    {
     "data": {
      "text/plain": [
       "(tensor(1.7188, dtype=torch.float64, grad_fn=<AddBackward0>),\n",
       " tensor([-1.2083,  0.0327,  5.8198], dtype=torch.float64,\n",
       "        grad_fn=<AddBackward0>))"
      ]
     },
     "execution_count": 9,
     "metadata": {},
     "output_type": "execute_result"
    }
   ],
   "source": [
    "# Numerical derivatives. For b it is just gamma\n",
    "print(f'b: {b.grad} vs {gamma}')\n",
    "\n",
    "# Compute the derivative for q\n",
    "G = point_to_q(gamma)\n",
    "t1 = q_mul(q_mul(G, q), q_conj(A0))\n",
    "t2 = t1\n",
    "q_add(t1, t2)"
   ]
  },
  {
   "cell_type": "code",
   "execution_count": 10,
   "id": "bad2b941",
   "metadata": {},
   "outputs": [
    {
     "name": "stdout",
     "output_type": "stream",
     "text": [
      "(0, 2, 5) (0, 2, 5)\n",
      "(0, 2, 5) (1, 2, 4)\n",
      "(1, 2, 4) (0, 2, 5)\n",
      "(1, 2, 4) (1, 2, 4)\n"
     ]
    }
   ],
   "source": [
    "allq = [G, q_conj(G), q, q_conj(q), A0, q_conj(A0)]\n",
    "all_comb = []\n",
    "for p1 in range(6):\n",
    "    for p2 in range(6):\n",
    "        for p3 in range(6):\n",
    "            all_comb.append( ((p1,p2,p3), q_mul(q_mul(allq[p1], allq[p2]), allq[p3]))) \n",
    "            \n",
    "for i1, (idx1, u1) in enumerate(all_comb):\n",
    "    for i2, (idx2, u2) in enumerate(all_comb):\n",
    "        qsum = q_add(u1, u2)\n",
    "        dr = (qsum[0]-q[0].grad).detach().cpu().numpy() ** 2\n",
    "        dv = np.sum((qsum[1]-q[1].grad).detach().cpu().numpy() ** 2)\n",
    "        if dr + dv < 1e-6:\n",
    "            print(idx1, idx2)"
   ]
  },
  {
   "cell_type": "markdown",
   "id": "7e2a2c22",
   "metadata": {},
   "source": [
    "What is the derivative of quaternion product $q(0,x){\\overline q}$ with respect to $x$?"
   ]
  },
  {
   "cell_type": "code",
   "execution_count": 11,
   "id": "51ea89fd",
   "metadata": {},
   "outputs": [
    {
     "name": "stdout",
     "output_type": "stream",
     "text": [
      "Num:  [-6.28025322  4.89993744 -3.1414461 ]\n",
      "Anl:  [-6.28025322  4.89993744 -3.1414461 ]\n"
     ]
    }
   ],
   "source": [
    "# This is the numerical derivative\n",
    "X = torch.tensor(np.random.randn(3), requires_grad=True)\n",
    "fX = q_mul(q_mul(q, point_to_q(X)), q_conj(q))\n",
    "fX[1].backward(gamma)\n",
    "print('Num: ', X.grad.detach().cpu().numpy())\n",
    "\n",
    "# Figure out the analytical derivative\n",
    "dX = q_mul(q_mul(q_conj(q), point_to_q(gamma)), q)[1]\n",
    "print('Anl: ', dX.detach().cpu().numpy())"
   ]
  },
  {
   "cell_type": "markdown",
   "id": "6ae80c52",
   "metadata": {},
   "source": [
    "Inverse rotation"
   ]
  },
  {
   "cell_type": "code",
   "execution_count": 12,
   "id": "fa58aafc",
   "metadata": {},
   "outputs": [],
   "source": [
    "def transform_point(q, b, C, A):\n",
    "    A0 = point_to_q(A-C)\n",
    "    B0 = q_mul(q_mul(q, A0), q_conj(q))\n",
    "    return B0[1] + C + b\n",
    "\n",
    "def transform_point_inv(q, b, C, B):\n",
    "    B0 = point_to_q(B - C - b)\n",
    "    A0 = q_scale(q_mul(q_mul(q_conj(q), B0), q), 1.0 / q_norm(q)**4)\n",
    "    return A0[1] + C\n",
    "\n",
    "def transform_point_inv_nonorm(q, b, C, B):\n",
    "    B0 = point_to_q(B - C - b)\n",
    "    A0 = q_mul(q_mul(q_conj(q), B0), q)\n",
    "    return A0[1] + C"
   ]
  },
  {
   "cell_type": "markdown",
   "id": "1d310c61",
   "metadata": {},
   "source": [
    "Now, I would like to backprop through the inverse transform, i.e., if I have some function f(A) of A, where A is transform_point_inv(q, b, C, B), then what is D_B f?"
   ]
  },
  {
   "cell_type": "code",
   "execution_count": 13,
   "id": "a73ddd5e",
   "metadata": {},
   "outputs": [
    {
     "data": {
      "text/plain": [
       "tensor([1.1102e-16, 1.1102e-16, 3.3307e-16], dtype=torch.float64,\n",
       "       grad_fn=<SubBackward0>)"
      ]
     },
     "execution_count": 13,
     "metadata": {},
     "output_type": "execute_result"
    }
   ],
   "source": [
    "transform_point_inv(q, b, C, transform_point(q, b, C, A)) - A"
   ]
  },
  {
   "cell_type": "code",
   "execution_count": 14,
   "id": "552a36b4",
   "metadata": {},
   "outputs": [
    {
     "data": {
      "text/plain": [
       "tensor([-0.6359, -0.4116,  0.8368], dtype=torch.float64,\n",
       "       grad_fn=<AddBackward0>)"
      ]
     },
     "execution_count": 14,
     "metadata": {},
     "output_type": "execute_result"
    }
   ],
   "source": [
    "transform_point_inv(q, b, C, B)"
   ]
  },
  {
   "cell_type": "markdown",
   "id": "93e5aae1",
   "metadata": {},
   "source": [
    "Here are the parameters of the inverse transform"
   ]
  },
  {
   "cell_type": "code",
   "execution_count": 19,
   "id": "5a4562e7",
   "metadata": {},
   "outputs": [
    {
     "data": {
      "text/plain": [
       "tensor([-0.6359, -0.4116,  0.8368], dtype=torch.float64,\n",
       "       grad_fn=<AddBackward0>)"
      ]
     },
     "execution_count": 19,
     "metadata": {},
     "output_type": "execute_result"
    }
   ],
   "source": [
    "q_inv = q_scale(q_conj(q), 1.0 / q_norm(q)**2)\n",
    "b_inv = q_mul(q_mul(q_inv, point_to_q(-b)), q_conj(q_inv))[1]\n",
    "transform_point(q_inv, b_inv, C, B)"
   ]
  },
  {
   "cell_type": "code",
   "execution_count": 19,
   "id": "1069cdbc",
   "metadata": {},
   "outputs": [
    {
     "data": {
      "text/plain": [
       "(tensor(-0.4963, dtype=torch.float64),\n",
       " tensor([-3.3621,  2.5635,  8.2509], dtype=torch.float64),\n",
       " tensor([ 0.3300,  0.4200, -0.4300], dtype=torch.float64))"
      ]
     },
     "execution_count": 19,
     "metadata": {},
     "output_type": "execute_result"
    }
   ],
   "source": [
    "q[0].grad.zero_()\n",
    "q[1].grad.zero_()\n",
    "b.grad.zero_()\n",
    "fA = transform_point(q, b, C, A)\n",
    "fA.backward(gamma)\n",
    "q[0].grad, q[1].grad, b.grad"
   ]
  },
  {
   "cell_type": "code",
   "execution_count": 71,
   "id": "402c209a",
   "metadata": {},
   "outputs": [
    {
     "data": {
      "text/plain": [
       "(tensor(-0.5484, dtype=torch.float64),\n",
       " tensor([ 0.3349, -0.4979,  0.0287], dtype=torch.float64),\n",
       " tensor([-0.0880,  0.0848,  0.1131], dtype=torch.float64))"
      ]
     },
     "execution_count": 71,
     "metadata": {},
     "output_type": "execute_result"
    }
   ],
   "source": [
    "q[0].grad.zero_()\n",
    "q[1].grad.zero_()\n",
    "b.grad.zero_()\n",
    "gA = transform_point_inv(q, b, C, A)\n",
    "gA.backward(gamma)\n",
    "q[0].grad, q[1].grad, b.grad"
   ]
  },
  {
   "cell_type": "code",
   "execution_count": 95,
   "id": "1f6dc365",
   "metadata": {},
   "outputs": [
    {
     "data": {
      "text/plain": [
       "((tensor(-0.5484, dtype=torch.float64, grad_fn=<AddBackward0>),\n",
       "  tensor([ 0.3349, -0.4979,  0.0287], dtype=torch.float64,\n",
       "         grad_fn=<AddBackward0>)),\n",
       " tensor([-0.0880,  0.0848,  0.1131], dtype=torch.float64,\n",
       "        grad_fn=<DivBackward0>))"
      ]
     },
     "execution_count": 95,
     "metadata": {},
     "output_type": "execute_result"
    }
   ],
   "source": [
    "# This is the b gradient, it is correct\n",
    "grad_finv_b = q_mul(q_mul(q, point_to_q(-gamma)), q_conj(q))[1] / q_norm(q)**4\n",
    "grad_finv_q = q_add(\n",
    "    q_scale(q_mul(q_mul(point_to_q(A - C - b), q), q_conj(G)), 2 / q_norm(q)**4),\n",
    "    q_scale(q, -4 * torch.dot(q_mul(q_mul(q_conj(q), point_to_q(A - C - b)), q)[1], gamma) / q_norm(q)**6))\n",
    "\n",
    "grad_finv_q, grad_finv_b"
   ]
  },
  {
   "cell_type": "code",
   "execution_count": null,
   "id": "598b9750",
   "metadata": {},
   "outputs": [],
   "source": []
  }
 ],
 "metadata": {
  "kernelspec": {
   "display_name": "Python 3 (ipykernel)",
   "language": "python",
   "name": "python3"
  },
  "language_info": {
   "codemirror_mode": {
    "name": "ipython",
    "version": 3
   },
   "file_extension": ".py",
   "mimetype": "text/x-python",
   "name": "python",
   "nbconvert_exporter": "python",
   "pygments_lexer": "ipython3",
   "version": "3.10.4"
  }
 },
 "nbformat": 4,
 "nbformat_minor": 5
}
